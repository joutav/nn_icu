{
 "metadata": {
  "language_info": {
   "codemirror_mode": {
    "name": "ipython",
    "version": 3
   },
   "file_extension": ".py",
   "mimetype": "text/x-python",
   "name": "python",
   "nbconvert_exporter": "python",
   "pygments_lexer": "ipython3",
   "version": "3.8.7-final"
  },
  "orig_nbformat": 2,
  "kernelspec": {
   "name": "python3",
   "display_name": "Python 3",
   "language": "python"
  }
 },
 "nbformat": 4,
 "nbformat_minor": 2,
 "cells": [
  {
   "cell_type": "code",
   "execution_count": 3,
   "metadata": {},
   "outputs": [],
   "source": [
    "import pandas as pd\n",
    "import seaborn as sns\n",
    "import numpy as np\n",
    "import matplotlib.pyplot as plt\n",
    "\n",
    "from sklearn.model_selection import train_test_split\n",
    "\n",
    "\n"
   ]
  },
  {
   "cell_type": "code",
   "execution_count": 4,
   "metadata": {},
   "outputs": [],
   "source": [
    "SEED = 4565123\n",
    "np.random.seed(SEED)"
   ]
  },
  {
   "source": [
    "# Lidando com dados faltantes"
   ],
   "cell_type": "markdown",
   "metadata": {}
  },
  {
   "cell_type": "code",
   "execution_count": 5,
   "metadata": {},
   "outputs": [
    {
     "output_type": "execute_result",
     "data": {
      "text/plain": [
       "   PATIENT_VISIT_IDENTIFIER  AGE_ABOVE65 AGE_PERCENTIL  GENDER  \\\n",
       "0                         0            1          60th       0   \n",
       "1                         0            1          60th       0   \n",
       "2                         0            1          60th       0   \n",
       "3                         0            1          60th       0   \n",
       "4                         0            1          60th       0   \n",
       "\n",
       "   DISEASE GROUPING 1  DISEASE GROUPING 2  DISEASE GROUPING 3  \\\n",
       "0                 0.0                 0.0                 0.0   \n",
       "1                 0.0                 0.0                 0.0   \n",
       "2                 0.0                 0.0                 0.0   \n",
       "3                 0.0                 0.0                 0.0   \n",
       "4                 0.0                 0.0                 0.0   \n",
       "\n",
       "   DISEASE GROUPING 4  DISEASE GROUPING 5  DISEASE GROUPING 6  ...  \\\n",
       "0                 0.0                 1.0                 1.0  ...   \n",
       "1                 0.0                 1.0                 1.0  ...   \n",
       "2                 0.0                 1.0                 1.0  ...   \n",
       "3                 0.0                 1.0                 1.0  ...   \n",
       "4                 0.0                 1.0                 1.0  ...   \n",
       "\n",
       "   TEMPERATURE_DIFF  OXYGEN_SATURATION_DIFF  BLOODPRESSURE_DIASTOLIC_DIFF_REL  \\\n",
       "0         -1.000000               -1.000000                         -1.000000   \n",
       "1         -1.000000               -1.000000                         -1.000000   \n",
       "2               NaN                     NaN                               NaN   \n",
       "3         -1.000000               -1.000000                               NaN   \n",
       "4         -0.238095               -0.818182                         -0.389967   \n",
       "\n",
       "   BLOODPRESSURE_SISTOLIC_DIFF_REL  HEART_RATE_DIFF_REL  \\\n",
       "0                        -1.000000            -1.000000   \n",
       "1                        -1.000000            -1.000000   \n",
       "2                              NaN                  NaN   \n",
       "3                              NaN                  NaN   \n",
       "4                         0.407558            -0.230462   \n",
       "\n",
       "   RESPIRATORY_RATE_DIFF_REL  TEMPERATURE_DIFF_REL  \\\n",
       "0                  -1.000000             -1.000000   \n",
       "1                  -1.000000             -1.000000   \n",
       "2                        NaN                   NaN   \n",
       "3                        NaN             -1.000000   \n",
       "4                   0.096774             -0.242282   \n",
       "\n",
       "   OXYGEN_SATURATION_DIFF_REL    WINDOW  ICU  \n",
       "0                   -1.000000       0-2    0  \n",
       "1                   -1.000000       2-4    0  \n",
       "2                         NaN       4-6    0  \n",
       "3                   -1.000000      6-12    0  \n",
       "4                   -0.814433  ABOVE_12    1  \n",
       "\n",
       "[5 rows x 231 columns]"
      ],
      "text/html": "<div>\n<style scoped>\n    .dataframe tbody tr th:only-of-type {\n        vertical-align: middle;\n    }\n\n    .dataframe tbody tr th {\n        vertical-align: top;\n    }\n\n    .dataframe thead th {\n        text-align: right;\n    }\n</style>\n<table border=\"1\" class=\"dataframe\">\n  <thead>\n    <tr style=\"text-align: right;\">\n      <th></th>\n      <th>PATIENT_VISIT_IDENTIFIER</th>\n      <th>AGE_ABOVE65</th>\n      <th>AGE_PERCENTIL</th>\n      <th>GENDER</th>\n      <th>DISEASE GROUPING 1</th>\n      <th>DISEASE GROUPING 2</th>\n      <th>DISEASE GROUPING 3</th>\n      <th>DISEASE GROUPING 4</th>\n      <th>DISEASE GROUPING 5</th>\n      <th>DISEASE GROUPING 6</th>\n      <th>...</th>\n      <th>TEMPERATURE_DIFF</th>\n      <th>OXYGEN_SATURATION_DIFF</th>\n      <th>BLOODPRESSURE_DIASTOLIC_DIFF_REL</th>\n      <th>BLOODPRESSURE_SISTOLIC_DIFF_REL</th>\n      <th>HEART_RATE_DIFF_REL</th>\n      <th>RESPIRATORY_RATE_DIFF_REL</th>\n      <th>TEMPERATURE_DIFF_REL</th>\n      <th>OXYGEN_SATURATION_DIFF_REL</th>\n      <th>WINDOW</th>\n      <th>ICU</th>\n    </tr>\n  </thead>\n  <tbody>\n    <tr>\n      <th>0</th>\n      <td>0</td>\n      <td>1</td>\n      <td>60th</td>\n      <td>0</td>\n      <td>0.0</td>\n      <td>0.0</td>\n      <td>0.0</td>\n      <td>0.0</td>\n      <td>1.0</td>\n      <td>1.0</td>\n      <td>...</td>\n      <td>-1.000000</td>\n      <td>-1.000000</td>\n      <td>-1.000000</td>\n      <td>-1.000000</td>\n      <td>-1.000000</td>\n      <td>-1.000000</td>\n      <td>-1.000000</td>\n      <td>-1.000000</td>\n      <td>0-2</td>\n      <td>0</td>\n    </tr>\n    <tr>\n      <th>1</th>\n      <td>0</td>\n      <td>1</td>\n      <td>60th</td>\n      <td>0</td>\n      <td>0.0</td>\n      <td>0.0</td>\n      <td>0.0</td>\n      <td>0.0</td>\n      <td>1.0</td>\n      <td>1.0</td>\n      <td>...</td>\n      <td>-1.000000</td>\n      <td>-1.000000</td>\n      <td>-1.000000</td>\n      <td>-1.000000</td>\n      <td>-1.000000</td>\n      <td>-1.000000</td>\n      <td>-1.000000</td>\n      <td>-1.000000</td>\n      <td>2-4</td>\n      <td>0</td>\n    </tr>\n    <tr>\n      <th>2</th>\n      <td>0</td>\n      <td>1</td>\n      <td>60th</td>\n      <td>0</td>\n      <td>0.0</td>\n      <td>0.0</td>\n      <td>0.0</td>\n      <td>0.0</td>\n      <td>1.0</td>\n      <td>1.0</td>\n      <td>...</td>\n      <td>NaN</td>\n      <td>NaN</td>\n      <td>NaN</td>\n      <td>NaN</td>\n      <td>NaN</td>\n      <td>NaN</td>\n      <td>NaN</td>\n      <td>NaN</td>\n      <td>4-6</td>\n      <td>0</td>\n    </tr>\n    <tr>\n      <th>3</th>\n      <td>0</td>\n      <td>1</td>\n      <td>60th</td>\n      <td>0</td>\n      <td>0.0</td>\n      <td>0.0</td>\n      <td>0.0</td>\n      <td>0.0</td>\n      <td>1.0</td>\n      <td>1.0</td>\n      <td>...</td>\n      <td>-1.000000</td>\n      <td>-1.000000</td>\n      <td>NaN</td>\n      <td>NaN</td>\n      <td>NaN</td>\n      <td>NaN</td>\n      <td>-1.000000</td>\n      <td>-1.000000</td>\n      <td>6-12</td>\n      <td>0</td>\n    </tr>\n    <tr>\n      <th>4</th>\n      <td>0</td>\n      <td>1</td>\n      <td>60th</td>\n      <td>0</td>\n      <td>0.0</td>\n      <td>0.0</td>\n      <td>0.0</td>\n      <td>0.0</td>\n      <td>1.0</td>\n      <td>1.0</td>\n      <td>...</td>\n      <td>-0.238095</td>\n      <td>-0.818182</td>\n      <td>-0.389967</td>\n      <td>0.407558</td>\n      <td>-0.230462</td>\n      <td>0.096774</td>\n      <td>-0.242282</td>\n      <td>-0.814433</td>\n      <td>ABOVE_12</td>\n      <td>1</td>\n    </tr>\n  </tbody>\n</table>\n<p>5 rows × 231 columns</p>\n</div>"
     },
     "metadata": {},
     "execution_count": 5
    }
   ],
   "source": [
    "url = 'https://raw.githubusercontent.com/joutav/Bootcamp-data-science/master/modulo-5/dados/Kaggle_Sirio_Libanes_ICU_Prediction.xlsx'\n",
    "\n",
    "dados = pd.read_excel(url)\n",
    "dados.head()"
   ]
  },
  {
   "source": [
    "Removi os dados cujo o paciente foi encaminhado para UTI e então fiz o preenchimento a partir do bfill e ffill. Encontrei um paciente cujo os dados sobre as doenças estava mcompletamente faltantes, o removi."
   ],
   "cell_type": "markdown",
   "metadata": {}
  },
  {
   "cell_type": "code",
   "execution_count": 6,
   "metadata": {},
   "outputs": [],
   "source": [
    "dados_nao_podem_ser_usados_para_treino = dados[dados.ICU == 1]\n",
    "dados_podem_ser_usados = dados[dados.ICU != 1]"
   ]
  },
  {
   "cell_type": "code",
   "execution_count": 7,
   "metadata": {},
   "outputs": [],
   "source": [
    "def preenche_dados(dados):\n",
    "    # continuas\n",
    "    features_continuas_colunas = dados.iloc[:, 13:-2].columns\n",
    "    features_continuas = dados.groupby('PATIENT_VISIT_IDENTIFIER')[features_continuas_colunas].fillna(method = 'bfill').fillna(method = 'ffill')\n",
    "    # categoricas\n",
    "    features_categoricas = dados.iloc[:, :13]\n",
    "    # saida\n",
    "    saida = dados.iloc[:, -2:]\n",
    "    # dado final\n",
    "    dados_final = pd.concat([features_categoricas, features_continuas, saida], ignore_index=True, axis =1)\n",
    "    dados_final.columns = dados.columns\n",
    "    return dados_final\n",
    "\n",
    "dados_usaveis_preenchidos = preenche_dados(dados_podem_ser_usados)\n"
   ]
  },
  {
   "cell_type": "code",
   "execution_count": 8,
   "metadata": {},
   "outputs": [
    {
     "output_type": "stream",
     "name": "stdout",
     "text": [
      "[199]\n"
     ]
    }
   ],
   "source": [
    "print(dados_usaveis_preenchidos[dados_usaveis_preenchidos.isnull().any(axis=1)].PATIENT_VISIT_IDENTIFIER.unique()) \n",
    "dados_usaveis_preenchidos = dados_usaveis_preenchidos.dropna()"
   ]
  },
  {
   "source": [
    "Paciente cujo os dados sobre as doenças está completamente faltante. Foi removido"
   ],
   "cell_type": "markdown",
   "metadata": {}
  },
  {
   "cell_type": "code",
   "execution_count": 9,
   "metadata": {},
   "outputs": [
    {
     "output_type": "stream",
     "name": "stdout",
     "text": [
      "PATIENT_VISIT_IDENTIFIER              0\nAGE_ABOVE65                           0\nAGE_PERCENTIL                         0\nGENDER                                0\nDISEASE GROUPING 1                    0\nDISEASE GROUPING 2                    0\nDISEASE GROUPING 3                    0\nDISEASE GROUPING 4                    0\nDISEASE GROUPING 5                    0\nDISEASE GROUPING 6                    0\nHTN                                   0\nIMMUNOCOMPROMISED                     0\nOTHER                                 0\nALBUMIN_MEDIAN                      227\nALBUMIN_MEAN                        227\nALBUMIN_MIN                         227\nALBUMIN_MAX                         227\nALBUMIN_DIFF                        227\nBE_ARTERIAL_MEDIAN                  227\nBE_ARTERIAL_MEAN                    227\nBE_ARTERIAL_MIN                     227\nBE_ARTERIAL_MAX                     227\nBE_ARTERIAL_DIFF                    227\nBE_VENOUS_MEDIAN                    227\nBE_VENOUS_MEAN                      227\nBE_VENOUS_MIN                       227\nBE_VENOUS_MAX                       227\nBE_VENOUS_DIFF                      227\nBIC_ARTERIAL_MEDIAN                 227\nBIC_ARTERIAL_MEAN                   227\nBIC_ARTERIAL_MIN                    227\nBIC_ARTERIAL_MAX                    227\nBIC_ARTERIAL_DIFF                   227\nBIC_VENOUS_MEDIAN                   227\nBIC_VENOUS_MEAN                     227\nBIC_VENOUS_MIN                      227\nBIC_VENOUS_MAX                      227\nBIC_VENOUS_DIFF                     227\nBILLIRUBIN_MEDIAN                   227\nBILLIRUBIN_MEAN                     227\nBILLIRUBIN_MIN                      227\nBILLIRUBIN_MAX                      227\nBILLIRUBIN_DIFF                     227\nBLAST_MEDIAN                        227\nBLAST_MEAN                          227\nBLAST_MIN                           227\nBLAST_MAX                           227\nBLAST_DIFF                          227\nCALCIUM_MEDIAN                      227\nCALCIUM_MEAN                        227\nCALCIUM_MIN                         227\nCALCIUM_MAX                         227\nCALCIUM_DIFF                        227\nCREATININ_MEDIAN                    227\nCREATININ_MEAN                      227\nCREATININ_MIN                       227\nCREATININ_MAX                       227\nCREATININ_DIFF                      227\nFFA_MEDIAN                          227\nFFA_MEAN                            227\nFFA_MIN                             227\nFFA_MAX                             227\nFFA_DIFF                            227\nGGT_MEDIAN                          227\nGGT_MEAN                            227\nGGT_MIN                             227\nGGT_MAX                             227\nGGT_DIFF                            227\nGLUCOSE_MEDIAN                      227\nGLUCOSE_MEAN                        227\nGLUCOSE_MIN                         227\nGLUCOSE_MAX                         227\nGLUCOSE_DIFF                        227\nHEMATOCRITE_MEDIAN                  227\nHEMATOCRITE_MEAN                    227\nHEMATOCRITE_MIN                     227\nHEMATOCRITE_MAX                     227\nHEMATOCRITE_DIFF                    227\nHEMOGLOBIN_MEDIAN                   227\nHEMOGLOBIN_MEAN                     227\nHEMOGLOBIN_MIN                      227\nHEMOGLOBIN_MAX                      227\nHEMOGLOBIN_DIFF                     227\nINR_MEDIAN                          227\nINR_MEAN                            227\nINR_MIN                             227\nINR_MAX                             227\nINR_DIFF                            227\nLACTATE_MEDIAN                      227\nLACTATE_MEAN                        227\nLACTATE_MIN                         227\nLACTATE_MAX                         227\nLACTATE_DIFF                        227\nLEUKOCYTES_MEDIAN                   227\nLEUKOCYTES_MEAN                     227\nLEUKOCYTES_MIN                      227\nLEUKOCYTES_MAX                      227\nLEUKOCYTES_DIFF                     227\nLINFOCITOS_MEDIAN                   227\nLINFOCITOS_MEAN                     227\nLINFOCITOS_MIN                      227\nLINFOCITOS_MAX                      227\nLINFOCITOS_DIFF                     227\nNEUTROPHILES_MEDIAN                 227\nNEUTROPHILES_MEAN                   227\nNEUTROPHILES_MIN                    227\nNEUTROPHILES_MAX                    227\nNEUTROPHILES_DIFF                   227\nP02_ARTERIAL_MEDIAN                 227\nP02_ARTERIAL_MEAN                   227\nP02_ARTERIAL_MIN                    227\nP02_ARTERIAL_MAX                    227\nP02_ARTERIAL_DIFF                   227\nP02_VENOUS_MEDIAN                   227\nP02_VENOUS_MEAN                     227\nP02_VENOUS_MIN                      227\nP02_VENOUS_MAX                      227\nP02_VENOUS_DIFF                     227\nPC02_ARTERIAL_MEDIAN                227\nPC02_ARTERIAL_MEAN                  227\nPC02_ARTERIAL_MIN                   227\nPC02_ARTERIAL_MAX                   227\nPC02_ARTERIAL_DIFF                  227\nPC02_VENOUS_MEDIAN                  227\nPC02_VENOUS_MEAN                    227\nPC02_VENOUS_MIN                     227\nPC02_VENOUS_MAX                     227\nPC02_VENOUS_DIFF                    227\nPCR_MEDIAN                          227\nPCR_MEAN                            227\nPCR_MIN                             227\nPCR_MAX                             227\nPCR_DIFF                            227\nPH_ARTERIAL_MEDIAN                  227\nPH_ARTERIAL_MEAN                    227\nPH_ARTERIAL_MIN                     227\nPH_ARTERIAL_MAX                     227\nPH_ARTERIAL_DIFF                    227\nPH_VENOUS_MEDIAN                    227\nPH_VENOUS_MEAN                      227\nPH_VENOUS_MIN                       227\nPH_VENOUS_MAX                       227\nPH_VENOUS_DIFF                      227\nPLATELETS_MEDIAN                    227\nPLATELETS_MEAN                      227\nPLATELETS_MIN                       227\nPLATELETS_MAX                       227\nPLATELETS_DIFF                      227\nPOTASSIUM_MEDIAN                    227\nPOTASSIUM_MEAN                      227\nPOTASSIUM_MIN                       227\nPOTASSIUM_MAX                       227\nPOTASSIUM_DIFF                      227\nSAT02_ARTERIAL_MEDIAN               227\nSAT02_ARTERIAL_MEAN                 227\nSAT02_ARTERIAL_MIN                  227\nSAT02_ARTERIAL_MAX                  227\nSAT02_ARTERIAL_DIFF                 227\nSAT02_VENOUS_MEDIAN                 227\nSAT02_VENOUS_MEAN                   227\nSAT02_VENOUS_MIN                    227\nSAT02_VENOUS_MAX                    227\nSAT02_VENOUS_DIFF                   227\nSODIUM_MEDIAN                       227\nSODIUM_MEAN                         227\nSODIUM_MIN                          227\nSODIUM_MAX                          227\nSODIUM_DIFF                         227\nTGO_MEDIAN                          227\nTGO_MEAN                            227\nTGO_MIN                             227\nTGO_MAX                             227\nTGO_DIFF                            227\nTGP_MEDIAN                          227\nTGP_MEAN                            227\nTGP_MIN                             227\nTGP_MAX                             227\nTGP_DIFF                            227\nTTPA_MEDIAN                         227\nTTPA_MEAN                           227\nTTPA_MIN                            227\nTTPA_MAX                            227\nTTPA_DIFF                           227\nUREA_MEDIAN                         227\nUREA_MEAN                           227\nUREA_MIN                            227\nUREA_MAX                            227\nUREA_DIFF                           227\nDIMER_MEDIAN                        227\nDIMER_MEAN                          227\nDIMER_MIN                           227\nDIMER_MAX                           227\nDIMER_DIFF                          227\nBLOODPRESSURE_DIASTOLIC_MEAN         53\nBLOODPRESSURE_SISTOLIC_MEAN          53\nHEART_RATE_MEAN                      60\nRESPIRATORY_RATE_MEAN                68\nTEMPERATURE_MEAN                     63\nOXYGEN_SATURATION_MEAN               64\nBLOODPRESSURE_DIASTOLIC_MEDIAN       53\nBLOODPRESSURE_SISTOLIC_MEDIAN        53\nHEART_RATE_MEDIAN                    60\nRESPIRATORY_RATE_MEDIAN              68\nTEMPERATURE_MEDIAN                   63\nOXYGEN_SATURATION_MEDIAN             64\nBLOODPRESSURE_DIASTOLIC_MIN          53\nBLOODPRESSURE_SISTOLIC_MIN           53\nHEART_RATE_MIN                       60\nRESPIRATORY_RATE_MIN                 68\nTEMPERATURE_MIN                      63\nOXYGEN_SATURATION_MIN                64\nBLOODPRESSURE_DIASTOLIC_MAX          53\nBLOODPRESSURE_SISTOLIC_MAX           53\nHEART_RATE_MAX                       60\nRESPIRATORY_RATE_MAX                 68\nTEMPERATURE_MAX                      63\nOXYGEN_SATURATION_MAX                64\nBLOODPRESSURE_DIASTOLIC_DIFF         53\nBLOODPRESSURE_SISTOLIC_DIFF          53\nHEART_RATE_DIFF                      60\nRESPIRATORY_RATE_DIFF                68\nTEMPERATURE_DIFF                     63\nOXYGEN_SATURATION_DIFF               64\nBLOODPRESSURE_DIASTOLIC_DIFF_REL     53\nBLOODPRESSURE_SISTOLIC_DIFF_REL      53\nHEART_RATE_DIFF_REL                  60\nRESPIRATORY_RATE_DIFF_REL            68\nTEMPERATURE_DIFF_REL                 63\nOXYGEN_SATURATION_DIFF_REL           64\nWINDOW                                0\nICU                                   0\n"
     ]
    }
   ],
   "source": [
    "# Verificação de dados faltantes no dataset que não pode ser usado para treinamento\n",
    "print(dados_nao_podem_ser_usados_para_treino.isna().sum().to_string()) "
   ]
  },
  {
   "source": [
    "Apenas os dados que não podem ser usados no treino apresentam dados faltantes, vou junta-los e preencher "
   ],
   "cell_type": "markdown",
   "metadata": {}
  },
  {
   "cell_type": "code",
   "execution_count": 10,
   "metadata": {},
   "outputs": [
    {
     "output_type": "stream",
     "name": "stdout",
     "text": [
      "PATIENT_VISIT_IDENTIFIER            0\nAGE_ABOVE65                         0\nAGE_PERCENTIL                       0\nGENDER                              0\nDISEASE GROUPING 1                  0\nDISEASE GROUPING 2                  0\nDISEASE GROUPING 3                  0\nDISEASE GROUPING 4                  0\nDISEASE GROUPING 5                  0\nDISEASE GROUPING 6                  0\nHTN                                 0\nIMMUNOCOMPROMISED                   0\nOTHER                               0\nALBUMIN_MEDIAN                      0\nALBUMIN_MEAN                        0\nALBUMIN_MIN                         0\nALBUMIN_MAX                         0\nALBUMIN_DIFF                        0\nBE_ARTERIAL_MEDIAN                  0\nBE_ARTERIAL_MEAN                    0\nBE_ARTERIAL_MIN                     0\nBE_ARTERIAL_MAX                     0\nBE_ARTERIAL_DIFF                    0\nBE_VENOUS_MEDIAN                    0\nBE_VENOUS_MEAN                      0\nBE_VENOUS_MIN                       0\nBE_VENOUS_MAX                       0\nBE_VENOUS_DIFF                      0\nBIC_ARTERIAL_MEDIAN                 0\nBIC_ARTERIAL_MEAN                   0\nBIC_ARTERIAL_MIN                    0\nBIC_ARTERIAL_MAX                    0\nBIC_ARTERIAL_DIFF                   0\nBIC_VENOUS_MEDIAN                   0\nBIC_VENOUS_MEAN                     0\nBIC_VENOUS_MIN                      0\nBIC_VENOUS_MAX                      0\nBIC_VENOUS_DIFF                     0\nBILLIRUBIN_MEDIAN                   0\nBILLIRUBIN_MEAN                     0\nBILLIRUBIN_MIN                      0\nBILLIRUBIN_MAX                      0\nBILLIRUBIN_DIFF                     0\nBLAST_MEDIAN                        0\nBLAST_MEAN                          0\nBLAST_MIN                           0\nBLAST_MAX                           0\nBLAST_DIFF                          0\nCALCIUM_MEDIAN                      0\nCALCIUM_MEAN                        0\nCALCIUM_MIN                         0\nCALCIUM_MAX                         0\nCALCIUM_DIFF                        0\nCREATININ_MEDIAN                    0\nCREATININ_MEAN                      0\nCREATININ_MIN                       0\nCREATININ_MAX                       0\nCREATININ_DIFF                      0\nFFA_MEDIAN                          0\nFFA_MEAN                            0\nFFA_MIN                             0\nFFA_MAX                             0\nFFA_DIFF                            0\nGGT_MEDIAN                          0\nGGT_MEAN                            0\nGGT_MIN                             0\nGGT_MAX                             0\nGGT_DIFF                            0\nGLUCOSE_MEDIAN                      0\nGLUCOSE_MEAN                        0\nGLUCOSE_MIN                         0\nGLUCOSE_MAX                         0\nGLUCOSE_DIFF                        0\nHEMATOCRITE_MEDIAN                  0\nHEMATOCRITE_MEAN                    0\nHEMATOCRITE_MIN                     0\nHEMATOCRITE_MAX                     0\nHEMATOCRITE_DIFF                    0\nHEMOGLOBIN_MEDIAN                   0\nHEMOGLOBIN_MEAN                     0\nHEMOGLOBIN_MIN                      0\nHEMOGLOBIN_MAX                      0\nHEMOGLOBIN_DIFF                     0\nINR_MEDIAN                          0\nINR_MEAN                            0\nINR_MIN                             0\nINR_MAX                             0\nINR_DIFF                            0\nLACTATE_MEDIAN                      0\nLACTATE_MEAN                        0\nLACTATE_MIN                         0\nLACTATE_MAX                         0\nLACTATE_DIFF                        0\nLEUKOCYTES_MEDIAN                   0\nLEUKOCYTES_MEAN                     0\nLEUKOCYTES_MIN                      0\nLEUKOCYTES_MAX                      0\nLEUKOCYTES_DIFF                     0\nLINFOCITOS_MEDIAN                   0\nLINFOCITOS_MEAN                     0\nLINFOCITOS_MIN                      0\nLINFOCITOS_MAX                      0\nLINFOCITOS_DIFF                     0\nNEUTROPHILES_MEDIAN                 0\nNEUTROPHILES_MEAN                   0\nNEUTROPHILES_MIN                    0\nNEUTROPHILES_MAX                    0\nNEUTROPHILES_DIFF                   0\nP02_ARTERIAL_MEDIAN                 0\nP02_ARTERIAL_MEAN                   0\nP02_ARTERIAL_MIN                    0\nP02_ARTERIAL_MAX                    0\nP02_ARTERIAL_DIFF                   0\nP02_VENOUS_MEDIAN                   0\nP02_VENOUS_MEAN                     0\nP02_VENOUS_MIN                      0\nP02_VENOUS_MAX                      0\nP02_VENOUS_DIFF                     0\nPC02_ARTERIAL_MEDIAN                0\nPC02_ARTERIAL_MEAN                  0\nPC02_ARTERIAL_MIN                   0\nPC02_ARTERIAL_MAX                   0\nPC02_ARTERIAL_DIFF                  0\nPC02_VENOUS_MEDIAN                  0\nPC02_VENOUS_MEAN                    0\nPC02_VENOUS_MIN                     0\nPC02_VENOUS_MAX                     0\nPC02_VENOUS_DIFF                    0\nPCR_MEDIAN                          0\nPCR_MEAN                            0\nPCR_MIN                             0\nPCR_MAX                             0\nPCR_DIFF                            0\nPH_ARTERIAL_MEDIAN                  0\nPH_ARTERIAL_MEAN                    0\nPH_ARTERIAL_MIN                     0\nPH_ARTERIAL_MAX                     0\nPH_ARTERIAL_DIFF                    0\nPH_VENOUS_MEDIAN                    0\nPH_VENOUS_MEAN                      0\nPH_VENOUS_MIN                       0\nPH_VENOUS_MAX                       0\nPH_VENOUS_DIFF                      0\nPLATELETS_MEDIAN                    0\nPLATELETS_MEAN                      0\nPLATELETS_MIN                       0\nPLATELETS_MAX                       0\nPLATELETS_DIFF                      0\nPOTASSIUM_MEDIAN                    0\nPOTASSIUM_MEAN                      0\nPOTASSIUM_MIN                       0\nPOTASSIUM_MAX                       0\nPOTASSIUM_DIFF                      0\nSAT02_ARTERIAL_MEDIAN               0\nSAT02_ARTERIAL_MEAN                 0\nSAT02_ARTERIAL_MIN                  0\nSAT02_ARTERIAL_MAX                  0\nSAT02_ARTERIAL_DIFF                 0\nSAT02_VENOUS_MEDIAN                 0\nSAT02_VENOUS_MEAN                   0\nSAT02_VENOUS_MIN                    0\nSAT02_VENOUS_MAX                    0\nSAT02_VENOUS_DIFF                   0\nSODIUM_MEDIAN                       0\nSODIUM_MEAN                         0\nSODIUM_MIN                          0\nSODIUM_MAX                          0\nSODIUM_DIFF                         0\nTGO_MEDIAN                          0\nTGO_MEAN                            0\nTGO_MIN                             0\nTGO_MAX                             0\nTGO_DIFF                            0\nTGP_MEDIAN                          0\nTGP_MEAN                            0\nTGP_MIN                             0\nTGP_MAX                             0\nTGP_DIFF                            0\nTTPA_MEDIAN                         0\nTTPA_MEAN                           0\nTTPA_MIN                            0\nTTPA_MAX                            0\nTTPA_DIFF                           0\nUREA_MEDIAN                         0\nUREA_MEAN                           0\nUREA_MIN                            0\nUREA_MAX                            0\nUREA_DIFF                           0\nDIMER_MEDIAN                        0\nDIMER_MEAN                          0\nDIMER_MIN                           0\nDIMER_MAX                           0\nDIMER_DIFF                          0\nBLOODPRESSURE_DIASTOLIC_MEAN        0\nBLOODPRESSURE_SISTOLIC_MEAN         0\nHEART_RATE_MEAN                     0\nRESPIRATORY_RATE_MEAN               0\nTEMPERATURE_MEAN                    0\nOXYGEN_SATURATION_MEAN              0\nBLOODPRESSURE_DIASTOLIC_MEDIAN      0\nBLOODPRESSURE_SISTOLIC_MEDIAN       0\nHEART_RATE_MEDIAN                   0\nRESPIRATORY_RATE_MEDIAN             0\nTEMPERATURE_MEDIAN                  0\nOXYGEN_SATURATION_MEDIAN            0\nBLOODPRESSURE_DIASTOLIC_MIN         0\nBLOODPRESSURE_SISTOLIC_MIN          0\nHEART_RATE_MIN                      0\nRESPIRATORY_RATE_MIN                0\nTEMPERATURE_MIN                     0\nOXYGEN_SATURATION_MIN               0\nBLOODPRESSURE_DIASTOLIC_MAX         0\nBLOODPRESSURE_SISTOLIC_MAX          0\nHEART_RATE_MAX                      0\nRESPIRATORY_RATE_MAX                0\nTEMPERATURE_MAX                     0\nOXYGEN_SATURATION_MAX               0\nBLOODPRESSURE_DIASTOLIC_DIFF        0\nBLOODPRESSURE_SISTOLIC_DIFF         0\nHEART_RATE_DIFF                     0\nRESPIRATORY_RATE_DIFF               0\nTEMPERATURE_DIFF                    0\nOXYGEN_SATURATION_DIFF              0\nBLOODPRESSURE_DIASTOLIC_DIFF_REL    0\nBLOODPRESSURE_SISTOLIC_DIFF_REL     0\nHEART_RATE_DIFF_REL                 0\nRESPIRATORY_RATE_DIFF_REL           0\nTEMPERATURE_DIFF_REL                0\nOXYGEN_SATURATION_DIFF_REL          0\nWINDOW                              0\nICU                                 0\n"
     ]
    }
   ],
   "source": [
    "dados_completos = pd.concat([dados_nao_podem_ser_usados_para_treino, dados_usaveis_preenchidos])\n",
    "dados_completo_preenchido = preenche_dados(dados_completos)\n",
    "print(dados_completo_preenchido.isna().sum().to_string()) # Verificando se algum dado não foi preenchido"
   ]
  },
  {
   "source": [
    "### Resumo: Separei os dateset entre os que podem ser usados para treino e não pode. Preenchi os dados treináveis como valores bbfill e ffill de dados que apenas podem ser usados no treinamento. Após isso concatenei e preenchi valores faltantes de dados que não podem ser usados no treinamento(ICU = 1)."
   ],
   "cell_type": "markdown",
   "metadata": {}
  },
  {
   "source": [
    "# Extração dos dados para treinamento e teste."
   ],
   "cell_type": "markdown",
   "metadata": {}
  },
  {
   "cell_type": "code",
   "execution_count": 11,
   "metadata": {},
   "outputs": [],
   "source": [
    "dados_completos['nao_treinavel'] = dados_completos.ICU"
   ]
  },
  {
   "source": [
    "### Criei uma variável responsável por identificar os dados que não podem ser usados no treinamento. São os dados cujo ICU é igual a 1"
   ],
   "cell_type": "markdown",
   "metadata": {}
  },
  {
   "cell_type": "code",
   "execution_count": 12,
   "metadata": {},
   "outputs": [],
   "source": [
    "def extracao_dado_inicial(rows):\n",
    "    if (np.any(rows['ICU'])):\n",
    "        rows['ICU'] = 1\n",
    "    return rows[rows[\"nao_treinavel\"] != 1]\n",
    "dados_para_treinamento = dados_completos.groupby('PATIENT_VISIT_IDENTIFIER').apply(extracao_dado_inicial)\n",
    "dados_para_treinamento = dados_para_treinamento.reset_index(drop=True)"
   ]
  },
  {
   "cell_type": "code",
   "execution_count": 13,
   "metadata": {},
   "outputs": [
    {
     "output_type": "execute_result",
     "data": {
      "text/plain": [
       "PATIENT_VISIT_IDENTIFIER\n",
       "384    5\n",
       "143    5\n",
       "146    5\n",
       "147    5\n",
       "298    5\n",
       "      ..\n",
       "82     1\n",
       "325    1\n",
       "87     1\n",
       "103    1\n",
       "235    1\n",
       "Length: 352, dtype: int64"
      ]
     },
     "metadata": {},
     "execution_count": 13
    }
   ],
   "source": [
    "# Verificando distribuição de dados\n",
    "dados_para_treinamento.value_counts('PATIENT_VISIT_IDENTIFIER')"
   ]
  },
  {
   "source": [
    "### Cirei uma função responsável por extrair os dados para treinamento. Ela atribui a todos os dados de um mesmo paciente ICU = 1 e então extrai apenas linhas que podem ser usadas no treinamento. Tive de resetar o index pois apresenta um multi-index no final."
   ],
   "cell_type": "markdown",
   "metadata": {}
  },
  {
   "source": [
    "## Separação dados, features e labels"
   ],
   "cell_type": "markdown",
   "metadata": {}
  },
  {
   "cell_type": "code",
   "execution_count": 14,
   "metadata": {},
   "outputs": [],
   "source": [
    "# Transformação da feature escala de idade\n",
    "\n",
    "renomear = {'10th' : 1, \n",
    "    '20th' : 2, \n",
    "    '30th' : 3, \n",
    "    '40th' : 4, \n",
    "    '50th' : 5, \n",
    "    '60th' : 6, \n",
    "    '70th' : 7, \n",
    "    '80th' : 8,\n",
    "    '90th' : 9, \n",
    "    'Above 90th' : 10\n",
    "}\n",
    "\n",
    "dados_para_treinamento.AGE_PERCENTIL = dados_para_treinamento.AGE_PERCENTIL.map(renomear)"
   ]
  },
  {
   "source": [
    "### Notei que a variável AGE_PERCENTIL é categorica mas está diferenciada por string. Vou atribuir inteiros para cada classe mas futuramente pretendo criar dummies e comparar os modelos."
   ],
   "cell_type": "markdown",
   "metadata": {}
  },
  {
   "cell_type": "code",
   "execution_count": 15,
   "metadata": {},
   "outputs": [],
   "source": [
    "x = dados_para_treinamento.iloc[:, :-3].drop('PATIENT_VISIT_IDENTIFIER', axis =1)  # Removi ICU, WINDOW e nao_treinavel para as features.\n",
    "y = dados_para_treinamento['ICU'] # Rotulo\n"
   ]
  },
  {
   "cell_type": "code",
   "execution_count": 16,
   "metadata": {},
   "outputs": [
    {
     "output_type": "stream",
     "name": "stdout",
     "text": [
      "Features apresentam 1405 entradas e 228 variaveis.\nOs rotulos apresentam 1405 entradas.\n"
     ]
    }
   ],
   "source": [
    "print(f'Features apresentam {x.shape[0]} entradas e {x.shape[1]} variaveis.')\n",
    "print(f'Os rotulos apresentam {y.shape[0]} entradas.')"
   ]
  },
  {
   "cell_type": "code",
   "execution_count": 79,
   "metadata": {},
   "outputs": [
    {
     "output_type": "stream",
     "name": "stdout",
     "text": [
      "O dataset aprsenta 945 que foram a UTI e 460 que foram\n"
     ]
    }
   ],
   "source": [
    "# Visualizando a dispersão dos labels\n",
    "dispersao_rotulos = dados_para_treinamento.ICU.value_counts().values\n",
    "print(f'O dataset aprsenta {dispersao_rotulos[0]} que foram a UTI e {dispersao_rotulos[1]} que foram')\n",
    "dispersao_rotulos = pd.DataFrame({'Valores' : dispersao_rotulos})\n"
   ]
  },
  {
   "cell_type": "code",
   "execution_count": 104,
   "metadata": {},
   "outputs": [
    {
     "output_type": "display_data",
     "data": {
      "text/plain": "<Figure size 432x432 with 1 Axes>",
      "image/svg+xml": "<?xml version=\"1.0\" encoding=\"utf-8\" standalone=\"no\"?>\r\n<!DOCTYPE svg PUBLIC \"-//W3C//DTD SVG 1.1//EN\"\r\n  \"http://www.w3.org/Graphics/SVG/1.1/DTD/svg11.dtd\">\r\n<!-- Created with matplotlib (https://matplotlib.org/) -->\r\n<svg height=\"385.168438pt\" version=\"1.1\" viewBox=\"0 0 381.65 385.168438\" width=\"381.65pt\" xmlns=\"http://www.w3.org/2000/svg\" xmlns:xlink=\"http://www.w3.org/1999/xlink\">\r\n <metadata>\r\n  <rdf:RDF xmlns:cc=\"http://creativecommons.org/ns#\" xmlns:dc=\"http://purl.org/dc/elements/1.1/\" xmlns:rdf=\"http://www.w3.org/1999/02/22-rdf-syntax-ns#\">\r\n   <cc:Work>\r\n    <dc:type rdf:resource=\"http://purl.org/dc/dcmitype/StillImage\"/>\r\n    <dc:date>2021-02-10T21:20:45.577492</dc:date>\r\n    <dc:format>image/svg+xml</dc:format>\r\n    <dc:creator>\r\n     <cc:Agent>\r\n      <dc:title>Matplotlib v3.3.4, https://matplotlib.org/</dc:title>\r\n     </cc:Agent>\r\n    </dc:creator>\r\n   </cc:Work>\r\n  </rdf:RDF>\r\n </metadata>\r\n <defs>\r\n  <style type=\"text/css\">*{stroke-linecap:butt;stroke-linejoin:round;}</style>\r\n </defs>\r\n <g id=\"figure_1\">\r\n  <g id=\"patch_1\">\r\n   <path d=\"M -0 385.168438 \r\nL 381.65 385.168438 \r\nL 381.65 0 \r\nL -0 0 \r\nz\r\n\" style=\"fill:none;\"/>\r\n  </g>\r\n  <g id=\"axes_1\">\r\n   <g id=\"patch_2\">\r\n    <path d=\"M 39.65 356.45125 \r\nL 374.45 356.45125 \r\nL 374.45 30.29125 \r\nL 39.65 30.29125 \r\nz\r\n\" style=\"fill:#ffffff;\"/>\r\n   </g>\r\n   <g id=\"patch_3\">\r\n    <path clip-path=\"url(#pa08f7b211f)\" d=\"M 123.35 356.45125 \r\nL 290.75 356.45125 \r\nL 290.75 147.523136 \r\nL 123.35 147.523136 \r\nz\r\n\" style=\"fill:#1f77b4;\"/>\r\n   </g>\r\n   <g id=\"patch_4\">\r\n    <path clip-path=\"url(#pa08f7b211f)\" d=\"M 123.35 147.523136 \r\nL 290.75 147.523136 \r\nL 290.75 45.822679 \r\nL 123.35 45.822679 \r\nz\r\n\" style=\"fill:#ff7f0e;\"/>\r\n   </g>\r\n   <g id=\"matplotlib.axis_1\">\r\n    <g id=\"xtick_1\">\r\n     <g id=\"line2d_1\">\r\n      <defs>\r\n       <path d=\"M 0 0 \r\nL 0 3.5 \r\n\" id=\"mb4ad58e379\" style=\"stroke:#000000;stroke-width:0.8;\"/>\r\n      </defs>\r\n      <g>\r\n       <use style=\"stroke:#000000;stroke-width:0.8;\" x=\"207.05\" xlink:href=\"#mb4ad58e379\" y=\"356.45125\"/>\r\n      </g>\r\n     </g>\r\n     <g id=\"text_1\">\r\n      <!-- Valores -->\r\n      <g transform=\"translate(179.795703 374.848906)scale(0.15 -0.15)\">\r\n       <defs>\r\n        <path d=\"M 28.609375 0 \r\nL 0.78125 72.90625 \r\nL 11.078125 72.90625 \r\nL 34.1875 11.53125 \r\nL 57.328125 72.90625 \r\nL 67.578125 72.90625 \r\nL 39.796875 0 \r\nz\r\n\" id=\"DejaVuSans-86\"/>\r\n        <path d=\"M 34.28125 27.484375 \r\nQ 23.390625 27.484375 19.1875 25 \r\nQ 14.984375 22.515625 14.984375 16.5 \r\nQ 14.984375 11.71875 18.140625 8.90625 \r\nQ 21.296875 6.109375 26.703125 6.109375 \r\nQ 34.1875 6.109375 38.703125 11.40625 \r\nQ 43.21875 16.703125 43.21875 25.484375 \r\nL 43.21875 27.484375 \r\nz\r\nM 52.203125 31.203125 \r\nL 52.203125 0 \r\nL 43.21875 0 \r\nL 43.21875 8.296875 \r\nQ 40.140625 3.328125 35.546875 0.953125 \r\nQ 30.953125 -1.421875 24.3125 -1.421875 \r\nQ 15.921875 -1.421875 10.953125 3.296875 \r\nQ 6 8.015625 6 15.921875 \r\nQ 6 25.140625 12.171875 29.828125 \r\nQ 18.359375 34.515625 30.609375 34.515625 \r\nL 43.21875 34.515625 \r\nL 43.21875 35.40625 \r\nQ 43.21875 41.609375 39.140625 45 \r\nQ 35.0625 48.390625 27.6875 48.390625 \r\nQ 23 48.390625 18.546875 47.265625 \r\nQ 14.109375 46.140625 10.015625 43.890625 \r\nL 10.015625 52.203125 \r\nQ 14.9375 54.109375 19.578125 55.046875 \r\nQ 24.21875 56 28.609375 56 \r\nQ 40.484375 56 46.34375 49.84375 \r\nQ 52.203125 43.703125 52.203125 31.203125 \r\nz\r\n\" id=\"DejaVuSans-97\"/>\r\n        <path d=\"M 9.421875 75.984375 \r\nL 18.40625 75.984375 \r\nL 18.40625 0 \r\nL 9.421875 0 \r\nz\r\n\" id=\"DejaVuSans-108\"/>\r\n        <path d=\"M 30.609375 48.390625 \r\nQ 23.390625 48.390625 19.1875 42.75 \r\nQ 14.984375 37.109375 14.984375 27.296875 \r\nQ 14.984375 17.484375 19.15625 11.84375 \r\nQ 23.34375 6.203125 30.609375 6.203125 \r\nQ 37.796875 6.203125 41.984375 11.859375 \r\nQ 46.1875 17.53125 46.1875 27.296875 \r\nQ 46.1875 37.015625 41.984375 42.703125 \r\nQ 37.796875 48.390625 30.609375 48.390625 \r\nz\r\nM 30.609375 56 \r\nQ 42.328125 56 49.015625 48.375 \r\nQ 55.71875 40.765625 55.71875 27.296875 \r\nQ 55.71875 13.875 49.015625 6.21875 \r\nQ 42.328125 -1.421875 30.609375 -1.421875 \r\nQ 18.84375 -1.421875 12.171875 6.21875 \r\nQ 5.515625 13.875 5.515625 27.296875 \r\nQ 5.515625 40.765625 12.171875 48.375 \r\nQ 18.84375 56 30.609375 56 \r\nz\r\n\" id=\"DejaVuSans-111\"/>\r\n        <path d=\"M 41.109375 46.296875 \r\nQ 39.59375 47.171875 37.8125 47.578125 \r\nQ 36.03125 48 33.890625 48 \r\nQ 26.265625 48 22.1875 43.046875 \r\nQ 18.109375 38.09375 18.109375 28.8125 \r\nL 18.109375 0 \r\nL 9.078125 0 \r\nL 9.078125 54.6875 \r\nL 18.109375 54.6875 \r\nL 18.109375 46.1875 \r\nQ 20.953125 51.171875 25.484375 53.578125 \r\nQ 30.03125 56 36.53125 56 \r\nQ 37.453125 56 38.578125 55.875 \r\nQ 39.703125 55.765625 41.0625 55.515625 \r\nz\r\n\" id=\"DejaVuSans-114\"/>\r\n        <path d=\"M 56.203125 29.59375 \r\nL 56.203125 25.203125 \r\nL 14.890625 25.203125 \r\nQ 15.484375 15.921875 20.484375 11.0625 \r\nQ 25.484375 6.203125 34.421875 6.203125 \r\nQ 39.59375 6.203125 44.453125 7.46875 \r\nQ 49.3125 8.734375 54.109375 11.28125 \r\nL 54.109375 2.78125 \r\nQ 49.265625 0.734375 44.1875 -0.34375 \r\nQ 39.109375 -1.421875 33.890625 -1.421875 \r\nQ 20.796875 -1.421875 13.15625 6.1875 \r\nQ 5.515625 13.8125 5.515625 26.8125 \r\nQ 5.515625 40.234375 12.765625 48.109375 \r\nQ 20.015625 56 32.328125 56 \r\nQ 43.359375 56 49.78125 48.890625 \r\nQ 56.203125 41.796875 56.203125 29.59375 \r\nz\r\nM 47.21875 32.234375 \r\nQ 47.125 39.59375 43.09375 43.984375 \r\nQ 39.0625 48.390625 32.421875 48.390625 \r\nQ 24.90625 48.390625 20.390625 44.140625 \r\nQ 15.875 39.890625 15.1875 32.171875 \r\nz\r\n\" id=\"DejaVuSans-101\"/>\r\n        <path d=\"M 44.28125 53.078125 \r\nL 44.28125 44.578125 \r\nQ 40.484375 46.53125 36.375 47.5 \r\nQ 32.28125 48.484375 27.875 48.484375 \r\nQ 21.1875 48.484375 17.84375 46.4375 \r\nQ 14.5 44.390625 14.5 40.28125 \r\nQ 14.5 37.15625 16.890625 35.375 \r\nQ 19.28125 33.59375 26.515625 31.984375 \r\nL 29.59375 31.296875 \r\nQ 39.15625 29.25 43.1875 25.515625 \r\nQ 47.21875 21.78125 47.21875 15.09375 \r\nQ 47.21875 7.46875 41.1875 3.015625 \r\nQ 35.15625 -1.421875 24.609375 -1.421875 \r\nQ 20.21875 -1.421875 15.453125 -0.5625 \r\nQ 10.6875 0.296875 5.421875 2 \r\nL 5.421875 11.28125 \r\nQ 10.40625 8.6875 15.234375 7.390625 \r\nQ 20.0625 6.109375 24.8125 6.109375 \r\nQ 31.15625 6.109375 34.5625 8.28125 \r\nQ 37.984375 10.453125 37.984375 14.40625 \r\nQ 37.984375 18.0625 35.515625 20.015625 \r\nQ 33.0625 21.96875 24.703125 23.78125 \r\nL 21.578125 24.515625 \r\nQ 13.234375 26.265625 9.515625 29.90625 \r\nQ 5.8125 33.546875 5.8125 39.890625 \r\nQ 5.8125 47.609375 11.28125 51.796875 \r\nQ 16.75 56 26.8125 56 \r\nQ 31.78125 56 36.171875 55.265625 \r\nQ 40.578125 54.546875 44.28125 53.078125 \r\nz\r\n\" id=\"DejaVuSans-115\"/>\r\n       </defs>\r\n       <use xlink:href=\"#DejaVuSans-86\"/>\r\n       <use x=\"60.658203\" xlink:href=\"#DejaVuSans-97\"/>\r\n       <use x=\"121.9375\" xlink:href=\"#DejaVuSans-108\"/>\r\n       <use x=\"149.720703\" xlink:href=\"#DejaVuSans-111\"/>\r\n       <use x=\"210.902344\" xlink:href=\"#DejaVuSans-114\"/>\r\n       <use x=\"249.765625\" xlink:href=\"#DejaVuSans-101\"/>\r\n       <use x=\"311.289062\" xlink:href=\"#DejaVuSans-115\"/>\r\n      </g>\r\n     </g>\r\n    </g>\r\n   </g>\r\n   <g id=\"matplotlib.axis_2\">\r\n    <g id=\"ytick_1\">\r\n     <g id=\"line2d_2\">\r\n      <defs>\r\n       <path d=\"M 0 0 \r\nL -3.5 0 \r\n\" id=\"mbdc111c01a\" style=\"stroke:#000000;stroke-width:0.8;\"/>\r\n      </defs>\r\n      <g>\r\n       <use style=\"stroke:#000000;stroke-width:0.8;\" x=\"39.65\" xlink:href=\"#mbdc111c01a\" y=\"356.45125\"/>\r\n      </g>\r\n     </g>\r\n     <g id=\"text_2\">\r\n      <!-- 0 -->\r\n      <g transform=\"translate(26.2875 360.250469)scale(0.1 -0.1)\">\r\n       <defs>\r\n        <path d=\"M 31.78125 66.40625 \r\nQ 24.171875 66.40625 20.328125 58.90625 \r\nQ 16.5 51.421875 16.5 36.375 \r\nQ 16.5 21.390625 20.328125 13.890625 \r\nQ 24.171875 6.390625 31.78125 6.390625 \r\nQ 39.453125 6.390625 43.28125 13.890625 \r\nQ 47.125 21.390625 47.125 36.375 \r\nQ 47.125 51.421875 43.28125 58.90625 \r\nQ 39.453125 66.40625 31.78125 66.40625 \r\nz\r\nM 31.78125 74.21875 \r\nQ 44.046875 74.21875 50.515625 64.515625 \r\nQ 56.984375 54.828125 56.984375 36.375 \r\nQ 56.984375 17.96875 50.515625 8.265625 \r\nQ 44.046875 -1.421875 31.78125 -1.421875 \r\nQ 19.53125 -1.421875 13.0625 8.265625 \r\nQ 6.59375 17.96875 6.59375 36.375 \r\nQ 6.59375 54.828125 13.0625 64.515625 \r\nQ 19.53125 74.21875 31.78125 74.21875 \r\nz\r\n\" id=\"DejaVuSans-48\"/>\r\n       </defs>\r\n       <use xlink:href=\"#DejaVuSans-48\"/>\r\n      </g>\r\n     </g>\r\n    </g>\r\n    <g id=\"ytick_2\">\r\n     <g id=\"line2d_3\">\r\n      <g>\r\n       <use style=\"stroke:#000000;stroke-width:0.8;\" x=\"39.65\" xlink:href=\"#mbdc111c01a\" y=\"312.23366\"/>\r\n      </g>\r\n     </g>\r\n     <g id=\"text_3\">\r\n      <!-- 200 -->\r\n      <g transform=\"translate(13.5625 316.032879)scale(0.1 -0.1)\">\r\n       <defs>\r\n        <path d=\"M 19.1875 8.296875 \r\nL 53.609375 8.296875 \r\nL 53.609375 0 \r\nL 7.328125 0 \r\nL 7.328125 8.296875 \r\nQ 12.9375 14.109375 22.625 23.890625 \r\nQ 32.328125 33.6875 34.8125 36.53125 \r\nQ 39.546875 41.84375 41.421875 45.53125 \r\nQ 43.3125 49.21875 43.3125 52.78125 \r\nQ 43.3125 58.59375 39.234375 62.25 \r\nQ 35.15625 65.921875 28.609375 65.921875 \r\nQ 23.96875 65.921875 18.8125 64.3125 \r\nQ 13.671875 62.703125 7.8125 59.421875 \r\nL 7.8125 69.390625 \r\nQ 13.765625 71.78125 18.9375 73 \r\nQ 24.125 74.21875 28.421875 74.21875 \r\nQ 39.75 74.21875 46.484375 68.546875 \r\nQ 53.21875 62.890625 53.21875 53.421875 \r\nQ 53.21875 48.921875 51.53125 44.890625 \r\nQ 49.859375 40.875 45.40625 35.40625 \r\nQ 44.1875 33.984375 37.640625 27.21875 \r\nQ 31.109375 20.453125 19.1875 8.296875 \r\nz\r\n\" id=\"DejaVuSans-50\"/>\r\n       </defs>\r\n       <use xlink:href=\"#DejaVuSans-50\"/>\r\n       <use x=\"63.623047\" xlink:href=\"#DejaVuSans-48\"/>\r\n       <use x=\"127.246094\" xlink:href=\"#DejaVuSans-48\"/>\r\n      </g>\r\n     </g>\r\n    </g>\r\n    <g id=\"ytick_3\">\r\n     <g id=\"line2d_4\">\r\n      <g>\r\n       <use style=\"stroke:#000000;stroke-width:0.8;\" x=\"39.65\" xlink:href=\"#mbdc111c01a\" y=\"268.01607\"/>\r\n      </g>\r\n     </g>\r\n     <g id=\"text_4\">\r\n      <!-- 400 -->\r\n      <g transform=\"translate(13.5625 271.815288)scale(0.1 -0.1)\">\r\n       <defs>\r\n        <path d=\"M 37.796875 64.3125 \r\nL 12.890625 25.390625 \r\nL 37.796875 25.390625 \r\nz\r\nM 35.203125 72.90625 \r\nL 47.609375 72.90625 \r\nL 47.609375 25.390625 \r\nL 58.015625 25.390625 \r\nL 58.015625 17.1875 \r\nL 47.609375 17.1875 \r\nL 47.609375 0 \r\nL 37.796875 0 \r\nL 37.796875 17.1875 \r\nL 4.890625 17.1875 \r\nL 4.890625 26.703125 \r\nz\r\n\" id=\"DejaVuSans-52\"/>\r\n       </defs>\r\n       <use xlink:href=\"#DejaVuSans-52\"/>\r\n       <use x=\"63.623047\" xlink:href=\"#DejaVuSans-48\"/>\r\n       <use x=\"127.246094\" xlink:href=\"#DejaVuSans-48\"/>\r\n      </g>\r\n     </g>\r\n    </g>\r\n    <g id=\"ytick_4\">\r\n     <g id=\"line2d_5\">\r\n      <g>\r\n       <use style=\"stroke:#000000;stroke-width:0.8;\" x=\"39.65\" xlink:href=\"#mbdc111c01a\" y=\"223.798479\"/>\r\n      </g>\r\n     </g>\r\n     <g id=\"text_5\">\r\n      <!-- 600 -->\r\n      <g transform=\"translate(13.5625 227.597698)scale(0.1 -0.1)\">\r\n       <defs>\r\n        <path d=\"M 33.015625 40.375 \r\nQ 26.375 40.375 22.484375 35.828125 \r\nQ 18.609375 31.296875 18.609375 23.390625 \r\nQ 18.609375 15.53125 22.484375 10.953125 \r\nQ 26.375 6.390625 33.015625 6.390625 \r\nQ 39.65625 6.390625 43.53125 10.953125 \r\nQ 47.40625 15.53125 47.40625 23.390625 \r\nQ 47.40625 31.296875 43.53125 35.828125 \r\nQ 39.65625 40.375 33.015625 40.375 \r\nz\r\nM 52.59375 71.296875 \r\nL 52.59375 62.3125 \r\nQ 48.875 64.0625 45.09375 64.984375 \r\nQ 41.3125 65.921875 37.59375 65.921875 \r\nQ 27.828125 65.921875 22.671875 59.328125 \r\nQ 17.53125 52.734375 16.796875 39.40625 \r\nQ 19.671875 43.65625 24.015625 45.921875 \r\nQ 28.375 48.1875 33.59375 48.1875 \r\nQ 44.578125 48.1875 50.953125 41.515625 \r\nQ 57.328125 34.859375 57.328125 23.390625 \r\nQ 57.328125 12.15625 50.6875 5.359375 \r\nQ 44.046875 -1.421875 33.015625 -1.421875 \r\nQ 20.359375 -1.421875 13.671875 8.265625 \r\nQ 6.984375 17.96875 6.984375 36.375 \r\nQ 6.984375 53.65625 15.1875 63.9375 \r\nQ 23.390625 74.21875 37.203125 74.21875 \r\nQ 40.921875 74.21875 44.703125 73.484375 \r\nQ 48.484375 72.75 52.59375 71.296875 \r\nz\r\n\" id=\"DejaVuSans-54\"/>\r\n       </defs>\r\n       <use xlink:href=\"#DejaVuSans-54\"/>\r\n       <use x=\"63.623047\" xlink:href=\"#DejaVuSans-48\"/>\r\n       <use x=\"127.246094\" xlink:href=\"#DejaVuSans-48\"/>\r\n      </g>\r\n     </g>\r\n    </g>\r\n    <g id=\"ytick_5\">\r\n     <g id=\"line2d_6\">\r\n      <g>\r\n       <use style=\"stroke:#000000;stroke-width:0.8;\" x=\"39.65\" xlink:href=\"#mbdc111c01a\" y=\"179.580889\"/>\r\n      </g>\r\n     </g>\r\n     <g id=\"text_6\">\r\n      <!-- 800 -->\r\n      <g transform=\"translate(13.5625 183.380108)scale(0.1 -0.1)\">\r\n       <defs>\r\n        <path d=\"M 31.78125 34.625 \r\nQ 24.75 34.625 20.71875 30.859375 \r\nQ 16.703125 27.09375 16.703125 20.515625 \r\nQ 16.703125 13.921875 20.71875 10.15625 \r\nQ 24.75 6.390625 31.78125 6.390625 \r\nQ 38.8125 6.390625 42.859375 10.171875 \r\nQ 46.921875 13.96875 46.921875 20.515625 \r\nQ 46.921875 27.09375 42.890625 30.859375 \r\nQ 38.875 34.625 31.78125 34.625 \r\nz\r\nM 21.921875 38.8125 \r\nQ 15.578125 40.375 12.03125 44.71875 \r\nQ 8.5 49.078125 8.5 55.328125 \r\nQ 8.5 64.0625 14.71875 69.140625 \r\nQ 20.953125 74.21875 31.78125 74.21875 \r\nQ 42.671875 74.21875 48.875 69.140625 \r\nQ 55.078125 64.0625 55.078125 55.328125 \r\nQ 55.078125 49.078125 51.53125 44.71875 \r\nQ 48 40.375 41.703125 38.8125 \r\nQ 48.828125 37.15625 52.796875 32.3125 \r\nQ 56.78125 27.484375 56.78125 20.515625 \r\nQ 56.78125 9.90625 50.3125 4.234375 \r\nQ 43.84375 -1.421875 31.78125 -1.421875 \r\nQ 19.734375 -1.421875 13.25 4.234375 \r\nQ 6.78125 9.90625 6.78125 20.515625 \r\nQ 6.78125 27.484375 10.78125 32.3125 \r\nQ 14.796875 37.15625 21.921875 38.8125 \r\nz\r\nM 18.3125 54.390625 \r\nQ 18.3125 48.734375 21.84375 45.5625 \r\nQ 25.390625 42.390625 31.78125 42.390625 \r\nQ 38.140625 42.390625 41.71875 45.5625 \r\nQ 45.3125 48.734375 45.3125 54.390625 \r\nQ 45.3125 60.0625 41.71875 63.234375 \r\nQ 38.140625 66.40625 31.78125 66.40625 \r\nQ 25.390625 66.40625 21.84375 63.234375 \r\nQ 18.3125 60.0625 18.3125 54.390625 \r\nz\r\n\" id=\"DejaVuSans-56\"/>\r\n       </defs>\r\n       <use xlink:href=\"#DejaVuSans-56\"/>\r\n       <use x=\"63.623047\" xlink:href=\"#DejaVuSans-48\"/>\r\n       <use x=\"127.246094\" xlink:href=\"#DejaVuSans-48\"/>\r\n      </g>\r\n     </g>\r\n    </g>\r\n    <g id=\"ytick_6\">\r\n     <g id=\"line2d_7\">\r\n      <g>\r\n       <use style=\"stroke:#000000;stroke-width:0.8;\" x=\"39.65\" xlink:href=\"#mbdc111c01a\" y=\"135.363299\"/>\r\n      </g>\r\n     </g>\r\n     <g id=\"text_7\">\r\n      <!-- 1000 -->\r\n      <g transform=\"translate(7.2 139.162518)scale(0.1 -0.1)\">\r\n       <defs>\r\n        <path d=\"M 12.40625 8.296875 \r\nL 28.515625 8.296875 \r\nL 28.515625 63.921875 \r\nL 10.984375 60.40625 \r\nL 10.984375 69.390625 \r\nL 28.421875 72.90625 \r\nL 38.28125 72.90625 \r\nL 38.28125 8.296875 \r\nL 54.390625 8.296875 \r\nL 54.390625 0 \r\nL 12.40625 0 \r\nz\r\n\" id=\"DejaVuSans-49\"/>\r\n       </defs>\r\n       <use xlink:href=\"#DejaVuSans-49\"/>\r\n       <use x=\"63.623047\" xlink:href=\"#DejaVuSans-48\"/>\r\n       <use x=\"127.246094\" xlink:href=\"#DejaVuSans-48\"/>\r\n       <use x=\"190.869141\" xlink:href=\"#DejaVuSans-48\"/>\r\n      </g>\r\n     </g>\r\n    </g>\r\n    <g id=\"ytick_7\">\r\n     <g id=\"line2d_8\">\r\n      <g>\r\n       <use style=\"stroke:#000000;stroke-width:0.8;\" x=\"39.65\" xlink:href=\"#mbdc111c01a\" y=\"91.145709\"/>\r\n      </g>\r\n     </g>\r\n     <g id=\"text_8\">\r\n      <!-- 1200 -->\r\n      <g transform=\"translate(7.2 94.944927)scale(0.1 -0.1)\">\r\n       <use xlink:href=\"#DejaVuSans-49\"/>\r\n       <use x=\"63.623047\" xlink:href=\"#DejaVuSans-50\"/>\r\n       <use x=\"127.246094\" xlink:href=\"#DejaVuSans-48\"/>\r\n       <use x=\"190.869141\" xlink:href=\"#DejaVuSans-48\"/>\r\n      </g>\r\n     </g>\r\n    </g>\r\n    <g id=\"ytick_8\">\r\n     <g id=\"line2d_9\">\r\n      <g>\r\n       <use style=\"stroke:#000000;stroke-width:0.8;\" x=\"39.65\" xlink:href=\"#mbdc111c01a\" y=\"46.928118\"/>\r\n      </g>\r\n     </g>\r\n     <g id=\"text_9\">\r\n      <!-- 1400 -->\r\n      <g transform=\"translate(7.2 50.727337)scale(0.1 -0.1)\">\r\n       <use xlink:href=\"#DejaVuSans-49\"/>\r\n       <use x=\"63.623047\" xlink:href=\"#DejaVuSans-52\"/>\r\n       <use x=\"127.246094\" xlink:href=\"#DejaVuSans-48\"/>\r\n       <use x=\"190.869141\" xlink:href=\"#DejaVuSans-48\"/>\r\n      </g>\r\n     </g>\r\n    </g>\r\n   </g>\r\n   <g id=\"patch_5\">\r\n    <path d=\"M 39.65 356.45125 \r\nL 39.65 30.29125 \r\n\" style=\"fill:none;stroke:#000000;stroke-linecap:square;stroke-linejoin:miter;stroke-width:0.8;\"/>\r\n   </g>\r\n   <g id=\"patch_6\">\r\n    <path d=\"M 374.45 356.45125 \r\nL 374.45 30.29125 \r\n\" style=\"fill:none;stroke:#000000;stroke-linecap:square;stroke-linejoin:miter;stroke-width:0.8;\"/>\r\n   </g>\r\n   <g id=\"patch_7\">\r\n    <path d=\"M 39.65 356.45125 \r\nL 374.45 356.45125 \r\n\" style=\"fill:none;stroke:#000000;stroke-linecap:square;stroke-linejoin:miter;stroke-width:0.8;\"/>\r\n   </g>\r\n   <g id=\"patch_8\">\r\n    <path d=\"M 39.65 30.29125 \r\nL 374.45 30.29125 \r\n\" style=\"fill:none;stroke:#000000;stroke-linecap:square;stroke-linejoin:miter;stroke-width:0.8;\"/>\r\n   </g>\r\n   <g id=\"text_10\">\r\n    <!-- Dispersão dos dados -->\r\n    <g transform=\"translate(92.713594 24.29125)scale(0.22 -0.22)\">\r\n     <defs>\r\n      <path d=\"M 19.671875 64.796875 \r\nL 19.671875 8.109375 \r\nL 31.59375 8.109375 \r\nQ 46.6875 8.109375 53.6875 14.9375 \r\nQ 60.6875 21.78125 60.6875 36.53125 \r\nQ 60.6875 51.171875 53.6875 57.984375 \r\nQ 46.6875 64.796875 31.59375 64.796875 \r\nz\r\nM 9.8125 72.90625 \r\nL 30.078125 72.90625 \r\nQ 51.265625 72.90625 61.171875 64.09375 \r\nQ 71.09375 55.28125 71.09375 36.53125 \r\nQ 71.09375 17.671875 61.125 8.828125 \r\nQ 51.171875 0 30.078125 0 \r\nL 9.8125 0 \r\nz\r\n\" id=\"DejaVuSans-68\"/>\r\n      <path d=\"M 9.421875 54.6875 \r\nL 18.40625 54.6875 \r\nL 18.40625 0 \r\nL 9.421875 0 \r\nz\r\nM 9.421875 75.984375 \r\nL 18.40625 75.984375 \r\nL 18.40625 64.59375 \r\nL 9.421875 64.59375 \r\nz\r\n\" id=\"DejaVuSans-105\"/>\r\n      <path d=\"M 18.109375 8.203125 \r\nL 18.109375 -20.796875 \r\nL 9.078125 -20.796875 \r\nL 9.078125 54.6875 \r\nL 18.109375 54.6875 \r\nL 18.109375 46.390625 \r\nQ 20.953125 51.265625 25.265625 53.625 \r\nQ 29.59375 56 35.59375 56 \r\nQ 45.5625 56 51.78125 48.09375 \r\nQ 58.015625 40.1875 58.015625 27.296875 \r\nQ 58.015625 14.40625 51.78125 6.484375 \r\nQ 45.5625 -1.421875 35.59375 -1.421875 \r\nQ 29.59375 -1.421875 25.265625 0.953125 \r\nQ 20.953125 3.328125 18.109375 8.203125 \r\nz\r\nM 48.6875 27.296875 \r\nQ 48.6875 37.203125 44.609375 42.84375 \r\nQ 40.53125 48.484375 33.40625 48.484375 \r\nQ 26.265625 48.484375 22.1875 42.84375 \r\nQ 18.109375 37.203125 18.109375 27.296875 \r\nQ 18.109375 17.390625 22.1875 11.75 \r\nQ 26.265625 6.109375 33.40625 6.109375 \r\nQ 40.53125 6.109375 44.609375 11.75 \r\nQ 48.6875 17.390625 48.6875 27.296875 \r\nz\r\n\" id=\"DejaVuSans-112\"/>\r\n      <path d=\"M 34.28125 27.484375 \r\nQ 23.390625 27.484375 19.1875 25 \r\nQ 14.984375 22.515625 14.984375 16.5 \r\nQ 14.984375 11.71875 18.140625 8.90625 \r\nQ 21.296875 6.109375 26.703125 6.109375 \r\nQ 34.1875 6.109375 38.703125 11.40625 \r\nQ 43.21875 16.703125 43.21875 25.484375 \r\nL 43.21875 27.484375 \r\nz\r\nM 52.203125 31.203125 \r\nL 52.203125 0 \r\nL 43.21875 0 \r\nL 43.21875 8.296875 \r\nQ 40.140625 3.328125 35.546875 0.953125 \r\nQ 30.953125 -1.421875 24.3125 -1.421875 \r\nQ 15.921875 -1.421875 10.953125 3.296875 \r\nQ 6 8.015625 6 15.921875 \r\nQ 6 25.140625 12.171875 29.828125 \r\nQ 18.359375 34.515625 30.609375 34.515625 \r\nL 43.21875 34.515625 \r\nL 43.21875 35.40625 \r\nQ 43.21875 41.609375 39.140625 45 \r\nQ 35.0625 48.390625 27.6875 48.390625 \r\nQ 23 48.390625 18.546875 47.265625 \r\nQ 14.109375 46.140625 10.015625 43.890625 \r\nL 10.015625 52.203125 \r\nQ 14.9375 54.109375 19.578125 55.046875 \r\nQ 24.21875 56 28.609375 56 \r\nQ 40.484375 56 46.34375 49.84375 \r\nQ 52.203125 43.703125 52.203125 31.203125 \r\nz\r\nM 28.8125 66.890625 \r\nL 26.015625 69.578125 \r\nQ 24.953125 70.5625 24.140625 71.015625 \r\nQ 23.34375 71.484375 22.703125 71.484375 \r\nQ 20.84375 71.484375 19.96875 69.703125 \r\nQ 19.09375 67.921875 18.984375 63.921875 \r\nL 12.890625 63.921875 \r\nQ 12.984375 70.515625 15.46875 74.09375 \r\nQ 17.96875 77.6875 22.40625 77.6875 \r\nQ 24.265625 77.6875 25.828125 77 \r\nQ 27.390625 76.3125 29.203125 74.703125 \r\nL 31.984375 72.015625 \r\nQ 33.046875 71.046875 33.859375 70.578125 \r\nQ 34.671875 70.125 35.296875 70.125 \r\nQ 37.15625 70.125 38.03125 71.90625 \r\nQ 38.90625 73.6875 39.015625 77.6875 \r\nL 45.109375 77.6875 \r\nQ 45.015625 71.09375 42.515625 67.5 \r\nQ 40.03125 63.921875 35.59375 63.921875 \r\nQ 33.734375 63.921875 32.171875 64.59375 \r\nQ 30.609375 65.28125 28.8125 66.890625 \r\nz\r\n\" id=\"DejaVuSans-227\"/>\r\n      <path id=\"DejaVuSans-32\"/>\r\n      <path d=\"M 45.40625 46.390625 \r\nL 45.40625 75.984375 \r\nL 54.390625 75.984375 \r\nL 54.390625 0 \r\nL 45.40625 0 \r\nL 45.40625 8.203125 \r\nQ 42.578125 3.328125 38.25 0.953125 \r\nQ 33.9375 -1.421875 27.875 -1.421875 \r\nQ 17.96875 -1.421875 11.734375 6.484375 \r\nQ 5.515625 14.40625 5.515625 27.296875 \r\nQ 5.515625 40.1875 11.734375 48.09375 \r\nQ 17.96875 56 27.875 56 \r\nQ 33.9375 56 38.25 53.625 \r\nQ 42.578125 51.265625 45.40625 46.390625 \r\nz\r\nM 14.796875 27.296875 \r\nQ 14.796875 17.390625 18.875 11.75 \r\nQ 22.953125 6.109375 30.078125 6.109375 \r\nQ 37.203125 6.109375 41.296875 11.75 \r\nQ 45.40625 17.390625 45.40625 27.296875 \r\nQ 45.40625 37.203125 41.296875 42.84375 \r\nQ 37.203125 48.484375 30.078125 48.484375 \r\nQ 22.953125 48.484375 18.875 42.84375 \r\nQ 14.796875 37.203125 14.796875 27.296875 \r\nz\r\n\" id=\"DejaVuSans-100\"/>\r\n     </defs>\r\n     <use xlink:href=\"#DejaVuSans-68\"/>\r\n     <use x=\"77.001953\" xlink:href=\"#DejaVuSans-105\"/>\r\n     <use x=\"104.785156\" xlink:href=\"#DejaVuSans-115\"/>\r\n     <use x=\"156.884766\" xlink:href=\"#DejaVuSans-112\"/>\r\n     <use x=\"220.361328\" xlink:href=\"#DejaVuSans-101\"/>\r\n     <use x=\"281.884766\" xlink:href=\"#DejaVuSans-114\"/>\r\n     <use x=\"322.998047\" xlink:href=\"#DejaVuSans-115\"/>\r\n     <use x=\"375.097656\" xlink:href=\"#DejaVuSans-227\"/>\r\n     <use x=\"436.376953\" xlink:href=\"#DejaVuSans-111\"/>\r\n     <use x=\"497.558594\" xlink:href=\"#DejaVuSans-32\"/>\r\n     <use x=\"529.345703\" xlink:href=\"#DejaVuSans-100\"/>\r\n     <use x=\"592.822266\" xlink:href=\"#DejaVuSans-111\"/>\r\n     <use x=\"654.003906\" xlink:href=\"#DejaVuSans-115\"/>\r\n     <use x=\"706.103516\" xlink:href=\"#DejaVuSans-32\"/>\r\n     <use x=\"737.890625\" xlink:href=\"#DejaVuSans-100\"/>\r\n     <use x=\"801.367188\" xlink:href=\"#DejaVuSans-97\"/>\r\n     <use x=\"862.646484\" xlink:href=\"#DejaVuSans-100\"/>\r\n     <use x=\"926.123047\" xlink:href=\"#DejaVuSans-111\"/>\r\n     <use x=\"987.304688\" xlink:href=\"#DejaVuSans-115\"/>\r\n    </g>\r\n   </g>\r\n   <g id=\"legend_1\">\r\n    <g id=\"patch_9\">\r\n     <path d=\"M 293.876563 67.6475 \r\nL 367.45 67.6475 \r\nQ 369.45 67.6475 369.45 65.6475 \r\nL 369.45 37.29125 \r\nQ 369.45 35.29125 367.45 35.29125 \r\nL 293.876563 35.29125 \r\nQ 291.876563 35.29125 291.876563 37.29125 \r\nL 291.876563 65.6475 \r\nQ 291.876563 67.6475 293.876563 67.6475 \r\nz\r\n\" style=\"fill:#ffffff;opacity:0.8;stroke:#cccccc;stroke-linejoin:miter;\"/>\r\n    </g>\r\n    <g id=\"patch_10\">\r\n     <path d=\"M 295.876563 46.889687 \r\nL 315.876563 46.889687 \r\nL 315.876563 39.889687 \r\nL 295.876563 39.889687 \r\nz\r\n\" style=\"fill:#1f77b4;\"/>\r\n    </g>\r\n    <g id=\"text_11\">\r\n     <!-- NAO UTI -->\r\n     <g transform=\"translate(323.876563 46.889687)scale(0.1 -0.1)\">\r\n      <defs>\r\n       <path d=\"M 9.8125 72.90625 \r\nL 23.09375 72.90625 \r\nL 55.421875 11.921875 \r\nL 55.421875 72.90625 \r\nL 64.984375 72.90625 \r\nL 64.984375 0 \r\nL 51.703125 0 \r\nL 19.390625 60.984375 \r\nL 19.390625 0 \r\nL 9.8125 0 \r\nz\r\n\" id=\"DejaVuSans-78\"/>\r\n       <path d=\"M 34.1875 63.1875 \r\nL 20.796875 26.90625 \r\nL 47.609375 26.90625 \r\nz\r\nM 28.609375 72.90625 \r\nL 39.796875 72.90625 \r\nL 67.578125 0 \r\nL 57.328125 0 \r\nL 50.6875 18.703125 \r\nL 17.828125 18.703125 \r\nL 11.1875 0 \r\nL 0.78125 0 \r\nz\r\n\" id=\"DejaVuSans-65\"/>\r\n       <path d=\"M 39.40625 66.21875 \r\nQ 28.65625 66.21875 22.328125 58.203125 \r\nQ 16.015625 50.203125 16.015625 36.375 \r\nQ 16.015625 22.609375 22.328125 14.59375 \r\nQ 28.65625 6.59375 39.40625 6.59375 \r\nQ 50.140625 6.59375 56.421875 14.59375 \r\nQ 62.703125 22.609375 62.703125 36.375 \r\nQ 62.703125 50.203125 56.421875 58.203125 \r\nQ 50.140625 66.21875 39.40625 66.21875 \r\nz\r\nM 39.40625 74.21875 \r\nQ 54.734375 74.21875 63.90625 63.9375 \r\nQ 73.09375 53.65625 73.09375 36.375 \r\nQ 73.09375 19.140625 63.90625 8.859375 \r\nQ 54.734375 -1.421875 39.40625 -1.421875 \r\nQ 24.03125 -1.421875 14.8125 8.828125 \r\nQ 5.609375 19.09375 5.609375 36.375 \r\nQ 5.609375 53.65625 14.8125 63.9375 \r\nQ 24.03125 74.21875 39.40625 74.21875 \r\nz\r\n\" id=\"DejaVuSans-79\"/>\r\n       <path d=\"M 8.6875 72.90625 \r\nL 18.609375 72.90625 \r\nL 18.609375 28.609375 \r\nQ 18.609375 16.890625 22.84375 11.734375 \r\nQ 27.09375 6.59375 36.625 6.59375 \r\nQ 46.09375 6.59375 50.34375 11.734375 \r\nQ 54.59375 16.890625 54.59375 28.609375 \r\nL 54.59375 72.90625 \r\nL 64.5 72.90625 \r\nL 64.5 27.390625 \r\nQ 64.5 13.140625 57.4375 5.859375 \r\nQ 50.390625 -1.421875 36.625 -1.421875 \r\nQ 22.796875 -1.421875 15.734375 5.859375 \r\nQ 8.6875 13.140625 8.6875 27.390625 \r\nz\r\n\" id=\"DejaVuSans-85\"/>\r\n       <path d=\"M -0.296875 72.90625 \r\nL 61.375 72.90625 \r\nL 61.375 64.59375 \r\nL 35.5 64.59375 \r\nL 35.5 0 \r\nL 25.59375 0 \r\nL 25.59375 64.59375 \r\nL -0.296875 64.59375 \r\nz\r\n\" id=\"DejaVuSans-84\"/>\r\n       <path d=\"M 9.8125 72.90625 \r\nL 19.671875 72.90625 \r\nL 19.671875 0 \r\nL 9.8125 0 \r\nz\r\n\" id=\"DejaVuSans-73\"/>\r\n      </defs>\r\n      <use xlink:href=\"#DejaVuSans-78\"/>\r\n      <use x=\"74.804688\" xlink:href=\"#DejaVuSans-65\"/>\r\n      <use x=\"141.462891\" xlink:href=\"#DejaVuSans-79\"/>\r\n      <use x=\"220.173828\" xlink:href=\"#DejaVuSans-32\"/>\r\n      <use x=\"251.960938\" xlink:href=\"#DejaVuSans-85\"/>\r\n      <use x=\"325.154297\" xlink:href=\"#DejaVuSans-84\"/>\r\n      <use x=\"386.238281\" xlink:href=\"#DejaVuSans-73\"/>\r\n     </g>\r\n    </g>\r\n    <g id=\"patch_11\">\r\n     <path d=\"M 295.876563 61.567813 \r\nL 315.876563 61.567813 \r\nL 315.876563 54.567813 \r\nL 295.876563 54.567813 \r\nz\r\n\" style=\"fill:#ff7f0e;\"/>\r\n    </g>\r\n    <g id=\"text_12\">\r\n     <!-- UTI -->\r\n     <g transform=\"translate(323.876563 61.567813)scale(0.1 -0.1)\">\r\n      <use xlink:href=\"#DejaVuSans-85\"/>\r\n      <use x=\"73.193359\" xlink:href=\"#DejaVuSans-84\"/>\r\n      <use x=\"134.277344\" xlink:href=\"#DejaVuSans-73\"/>\r\n     </g>\r\n    </g>\r\n   </g>\r\n  </g>\r\n </g>\r\n <defs>\r\n  <clipPath id=\"pa08f7b211f\">\r\n   <rect height=\"326.16\" width=\"334.8\" x=\"39.65\" y=\"30.29125\"/>\r\n  </clipPath>\r\n </defs>\r\n</svg>\r\n",
      "image/png": "[encoded data removed]"
     },
     "metadata": {
      "needs_background": "light"
     }
    }
   ],
   "source": [
    "dispersao_rotulos.T.plot(kind='bar', stacked=True, figsize = (6,6))\n",
    "plt.legend(['NAO UTI', 'UTI'])\n",
    "plt.title('Dispersão dos dados', fontsize= 22)\n",
    "plt.xticks(rotation=0, fontsize=15)\n",
    "plt.show()"
   ]
  },
  {
   "source": [
    "### Os dados não estão balanceados, devo me atentar no momento de realizar a separação de treino e teste"
   ],
   "cell_type": "markdown",
   "metadata": {}
  },
  {
   "source": [
    "# Separação dos dados para treinamento e teste"
   ],
   "cell_type": "markdown",
   "metadata": {}
  },
  {
   "cell_type": "code",
   "execution_count": 107,
   "metadata": {},
   "outputs": [],
   "source": [
    "np.random.seed(SEED)\n",
    "\n",
    "x_train, x_test, y_train, y_test = train_test_split(x, y, test_size=0.3, stratify=y)"
   ]
  },
  {
   "cell_type": "code",
   "execution_count": 111,
   "metadata": {},
   "outputs": [
    {
     "output_type": "stream",
     "name": "stdout",
     "text": [
      "Treinamento realizado com 983 amostras e testado com 422 amostras\n"
     ]
    }
   ],
   "source": [
    "print(f'Treinamento realizado com {len(x_train)} amostras e testado com {len(x_test)} amostras')"
   ]
  },
  {
   "cell_type": "code",
   "execution_count": 112,
   "metadata": {},
   "outputs": [],
   "source": [
    "# Salvando dados para utilizar na rede neural\n",
    "\n",
    "x_train.to_csv('../dados/x_train.csv', index=False)\n",
    "x_test.to_csv('../dados/x_test.csv', index=False)\n",
    "y_train.to_csv('../dados/y_train.csv', index=False)\n",
    "y_test.to_csv('../dados/y_test.csv', index=False)\n"
   ]
  },
  {
   "cell_type": "code",
   "execution_count": null,
   "metadata": {},
   "outputs": [],
   "source": []
  }
 ]
}